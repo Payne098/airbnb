{
 "cells": [
  {
   "cell_type": "code",
   "execution_count": 1,
   "metadata": {
    "collapsed": true
   },
   "outputs": [],
   "source": [
    "# Some of the code refered from: https://www.kaggle.com/svpons/feature-engineering"
   ]
  },
  {
   "cell_type": "code",
   "execution_count": 2,
   "metadata": {
    "collapsed": true
   },
   "outputs": [],
   "source": [
    "import numpy as np\n",
    "import pandas as pd\n",
    "import matplotlib.pyplot as plt\n",
    "%matplotlib inline\n",
    "import seaborn as sns"
   ]
  },
  {
   "cell_type": "markdown",
   "metadata": {},
   "source": [
    "# session"
   ]
  },
  {
   "cell_type": "code",
   "execution_count": 3,
   "metadata": {
    "collapsed": true
   },
   "outputs": [],
   "source": [
    "df_session = pd.read_csv('data/sessions.csv')"
   ]
  },
  {
   "cell_type": "code",
   "execution_count": 5,
   "metadata": {},
   "outputs": [
    {
     "data": {
      "text/html": [
       "<div>\n",
       "<style>\n",
       "    .dataframe thead tr:only-child th {\n",
       "        text-align: right;\n",
       "    }\n",
       "\n",
       "    .dataframe thead th {\n",
       "        text-align: left;\n",
       "    }\n",
       "\n",
       "    .dataframe tbody tr th {\n",
       "        vertical-align: top;\n",
       "    }\n",
       "</style>\n",
       "<table border=\"1\" class=\"dataframe\">\n",
       "  <thead>\n",
       "    <tr style=\"text-align: right;\">\n",
       "      <th></th>\n",
       "      <th>user_id</th>\n",
       "      <th>action</th>\n",
       "      <th>action_type</th>\n",
       "      <th>action_detail</th>\n",
       "      <th>device_type</th>\n",
       "      <th>secs_elapsed</th>\n",
       "    </tr>\n",
       "  </thead>\n",
       "  <tbody>\n",
       "    <tr>\n",
       "      <th>0</th>\n",
       "      <td>d1mm9tcy42</td>\n",
       "      <td>lookup</td>\n",
       "      <td>NaN</td>\n",
       "      <td>NaN</td>\n",
       "      <td>Windows Desktop</td>\n",
       "      <td>319.0</td>\n",
       "    </tr>\n",
       "    <tr>\n",
       "      <th>1</th>\n",
       "      <td>d1mm9tcy42</td>\n",
       "      <td>search_results</td>\n",
       "      <td>click</td>\n",
       "      <td>view_search_results</td>\n",
       "      <td>Windows Desktop</td>\n",
       "      <td>67753.0</td>\n",
       "    </tr>\n",
       "    <tr>\n",
       "      <th>2</th>\n",
       "      <td>d1mm9tcy42</td>\n",
       "      <td>lookup</td>\n",
       "      <td>NaN</td>\n",
       "      <td>NaN</td>\n",
       "      <td>Windows Desktop</td>\n",
       "      <td>301.0</td>\n",
       "    </tr>\n",
       "    <tr>\n",
       "      <th>3</th>\n",
       "      <td>d1mm9tcy42</td>\n",
       "      <td>search_results</td>\n",
       "      <td>click</td>\n",
       "      <td>view_search_results</td>\n",
       "      <td>Windows Desktop</td>\n",
       "      <td>22141.0</td>\n",
       "    </tr>\n",
       "    <tr>\n",
       "      <th>4</th>\n",
       "      <td>jpmpj40cvk</td>\n",
       "      <td>lookup</td>\n",
       "      <td>NaN</td>\n",
       "      <td>NaN</td>\n",
       "      <td>Windows Desktop</td>\n",
       "      <td>957.0</td>\n",
       "    </tr>\n",
       "    <tr>\n",
       "      <th>5</th>\n",
       "      <td>jpmpj40cvk</td>\n",
       "      <td>search_results</td>\n",
       "      <td>click</td>\n",
       "      <td>view_search_results</td>\n",
       "      <td>Windows Desktop</td>\n",
       "      <td>965.0</td>\n",
       "    </tr>\n",
       "    <tr>\n",
       "      <th>6</th>\n",
       "      <td>jpmpj40cvk</td>\n",
       "      <td>search_results</td>\n",
       "      <td>click</td>\n",
       "      <td>view_search_results</td>\n",
       "      <td>Windows Desktop</td>\n",
       "      <td>1021.0</td>\n",
       "    </tr>\n",
       "    <tr>\n",
       "      <th>7</th>\n",
       "      <td>jpmpj40cvk</td>\n",
       "      <td>search_results</td>\n",
       "      <td>click</td>\n",
       "      <td>view_search_results</td>\n",
       "      <td>Windows Desktop</td>\n",
       "      <td>938.0</td>\n",
       "    </tr>\n",
       "    <tr>\n",
       "      <th>8</th>\n",
       "      <td>jpmpj40cvk</td>\n",
       "      <td>search_results</td>\n",
       "      <td>click</td>\n",
       "      <td>view_search_results</td>\n",
       "      <td>Windows Desktop</td>\n",
       "      <td>2702.0</td>\n",
       "    </tr>\n",
       "    <tr>\n",
       "      <th>9</th>\n",
       "      <td>jpmpj40cvk</td>\n",
       "      <td>ajax_refresh_subtotal</td>\n",
       "      <td>click</td>\n",
       "      <td>change_trip_characteristics</td>\n",
       "      <td>Windows Desktop</td>\n",
       "      <td>674.0</td>\n",
       "    </tr>\n",
       "  </tbody>\n",
       "</table>\n",
       "</div>"
      ],
      "text/plain": [
       "      user_id                 action action_type                action_detail  \\\n",
       "0  d1mm9tcy42                 lookup         NaN                          NaN   \n",
       "1  d1mm9tcy42         search_results       click          view_search_results   \n",
       "2  d1mm9tcy42                 lookup         NaN                          NaN   \n",
       "3  d1mm9tcy42         search_results       click          view_search_results   \n",
       "4  jpmpj40cvk                 lookup         NaN                          NaN   \n",
       "5  jpmpj40cvk         search_results       click          view_search_results   \n",
       "6  jpmpj40cvk         search_results       click          view_search_results   \n",
       "7  jpmpj40cvk         search_results       click          view_search_results   \n",
       "8  jpmpj40cvk         search_results       click          view_search_results   \n",
       "9  jpmpj40cvk  ajax_refresh_subtotal       click  change_trip_characteristics   \n",
       "\n",
       "       device_type  secs_elapsed  \n",
       "0  Windows Desktop         319.0  \n",
       "1  Windows Desktop       67753.0  \n",
       "2  Windows Desktop         301.0  \n",
       "3  Windows Desktop       22141.0  \n",
       "4  Windows Desktop         957.0  \n",
       "5  Windows Desktop         965.0  \n",
       "6  Windows Desktop        1021.0  \n",
       "7  Windows Desktop         938.0  \n",
       "8  Windows Desktop        2702.0  \n",
       "9  Windows Desktop         674.0  "
      ]
     },
     "execution_count": 5,
     "metadata": {},
     "output_type": "execute_result"
    }
   ],
   "source": [
    "df_session.head(10)"
   ]
  },
  {
   "cell_type": "code",
   "execution_count": 20,
   "metadata": {},
   "outputs": [
    {
     "data": {
      "text/plain": [
       "user_id          2797\n",
       "action              0\n",
       "action_type         0\n",
       "action_detail       0\n",
       "device_type         0\n",
       "secs_elapsed        0\n",
       "dtype: int64"
      ]
     },
     "execution_count": 20,
     "metadata": {},
     "output_type": "execute_result"
    }
   ],
   "source": [
    "df_session.isnull().sum()"
   ]
  },
  {
   "cell_type": "code",
   "execution_count": 19,
   "metadata": {},
   "outputs": [],
   "source": [
    "df_session.action = df_session.action.fillna(\"NaN\")\n",
    "df_session.action_type = df_session.action_type.fillna(\"NaN\")\n",
    "df_session.action_detail = df_session.action_detail.fillna(\"NaN\")\n",
    "df_session.secs_elapsed = df_session.secs_elapsed.fillna(\"NaN\")"
   ]
  },
  {
   "cell_type": "code",
   "execution_count": 21,
   "metadata": {},
   "outputs": [
    {
     "data": {
      "text/plain": [
       "show                               209655\n",
       "search_results                     109430\n",
       "personalize                        105718\n",
       "lookup                              88302\n",
       "ajax_refresh_subtotal               71482\n",
       "index                               69441\n",
       "similar_listings                    53814\n",
       "update                              38829\n",
       "search                              26520\n",
       "header_userpic                      17332\n",
       "create                              17262\n",
       "track_page_view                     17089\n",
       "active                              15855\n",
       "social_connections                  15301\n",
       "collections                         12763\n",
       "dashboard                            9535\n",
       "calendar_tab_inner2                  9353\n",
       "ajax_check_dates                     8387\n",
       "NaN                                  7873\n",
       "edit                                 7716\n",
       "confirm_email                        7424\n",
       "ask_question                         6994\n",
       "requested                            6242\n",
       "authenticate                         6021\n",
       "other_hosting_reviews_first          5934\n",
       "show_personalize                     5542\n",
       "ajax_lwlb_contact                    5042\n",
       "reviews                              4704\n",
       "unavailabilities                     4702\n",
       "qt2                                  4537\n",
       "                                    ...  \n",
       "change_availability                     4\n",
       "press_news                              3\n",
       "travel                                  3\n",
       "message                                 3\n",
       "office_location                         3\n",
       "locations                               3\n",
       "slideshow                               3\n",
       "reservation                             2\n",
       "create_ach                              2\n",
       "life                                    2\n",
       "update_reservation_requirements         2\n",
       "locale_from_host                        2\n",
       "has_profile_pic                         2\n",
       "load_more                               2\n",
       "how_it_works                            2\n",
       "home_safety_landing                     2\n",
       "guest_billing_receipt                   1\n",
       "media_resources                         1\n",
       "sublets                                 1\n",
       "localized                               1\n",
       "relationship                            1\n",
       "feed                                    1\n",
       "southern-europe                         1\n",
       "photography_update                      1\n",
       "wishlists                               1\n",
       "recommendation_page                     1\n",
       "maybe_information                       1\n",
       "departments                             1\n",
       "satisfy                                 1\n",
       "change_default_payout                   1\n",
       "Name: action, Length: 245, dtype: int64"
      ]
     },
     "execution_count": 21,
     "metadata": {},
     "output_type": "execute_result"
    }
   ],
   "source": [
    "df_session.action.value_counts()"
   ]
  },
  {
   "cell_type": "code",
   "execution_count": null,
   "metadata": {
    "collapsed": true
   },
   "outputs": [],
   "source": [
    "# action values with low frequency are changed to \"Other\"\n",
    "\n",
    "act_freq = 100"
   ]
  }
 ],
 "metadata": {
  "kernelspec": {
   "display_name": "Python 3",
   "language": "python",
   "name": "python3"
  },
  "language_info": {
   "codemirror_mode": {
    "name": "ipython",
    "version": 3
   },
   "file_extension": ".py",
   "mimetype": "text/x-python",
   "name": "python",
   "nbconvert_exporter": "python",
   "pygments_lexer": "ipython3",
   "version": "3.6.6"
  }
 },
 "nbformat": 4,
 "nbformat_minor": 2
}
